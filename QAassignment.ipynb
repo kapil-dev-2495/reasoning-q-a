{
 "cells": [
  {
   "cell_type": "markdown",
   "id": "a349ffdb",
   "metadata": {},
   "source": [
    "Question 1:: Write a function non_increasing_tst(ts, delta) that returns a Boolean value indicating whether the time series is 'non-increasing', i.e., successive values never increase by more than a given threshold.\n",
    "The function takes two arguments,\n",
    "ts: a time series as a list of integers, containing at least two values.\n",
    "delta: an integer ≥ 0 such that the positive change between two successive values in the time series must be greater than delta for the change to be considered as an 'increase'.\n",
    "The function should return True if there is no pair of consecutive values ts[i] and ts[i+1] in the time series such that (ts[i+1] – ts[i]) > delta, or False otherwise.\n",
    "You can assume that the input arguments are correctly formatted.\n",
    "For example- you are given a time series in the form of a list of integers e.g., the daily Covid case count leckietopia = [58, 54, 54, 52, 54, 50, 47]\n",
    "The time series in leckietopia has a small increase from 52 to 54 However, if we tolerate noise of at least 2 in the differences between successive readings, then this time series could be considered to be consistently falling or steady, i.e., 'non-increasing'.\n",
    "Here are some example calls to the function:\n",
    ">>> leckietopia = [58, 54, 54, 52, 54, 50, 47]\n",
    ">>> print(non_increasing_tst(leckietopia, 0))\n",
    "False\n",
    ">>> print(non_increasing_tst(leckietopia, 1))\n",
    "False\n",
    ">>> print(non_increasing_tst(leckietopia, 2))\n",
    "True\n",
    ">>> print(non_increasing_tst([100, 90, 80, 70, 70, 60], 0))\n",
    "True"
   ]
  },
  {
   "cell_type": "code",
   "execution_count": 5,
   "id": "a0f7f7ec",
   "metadata": {
    "scrolled": true
   },
   "outputs": [
    {
     "name": "stdout",
     "output_type": "stream",
     "text": [
      "Enter the time series : 22 33 43 55\n",
      "Enter range value : 2\n",
      "False\n"
     ]
    }
   ],
   "source": [
    "#solution\n",
    "def non_increasing_tst(ts, delta):\n",
    "    for i in range(len(ts)-1):\n",
    "        if((ts[i+1]-ts[i])>delta):\n",
    "            return False\n",
    "    return True\n",
    "\n",
    "time_series_list = (input(\"Enter the time series : \").strip()).split(\" \")\n",
    "for i in range(len(time_series_list)):\n",
    "    time_series_list[i] = int(time_series_list[i])\n",
    "\n",
    "delta_val = int(input(\"Enter range value : \"))\n",
    "\n",
    "if(len(time_series_list) > 2):\n",
    "    print(non_increasing_tst(time_series_list, delta_val))"
   ]
  },
  {
   "cell_type": "markdown",
   "id": "71b94d04",
   "metadata": {},
   "source": [
    "Question 2:: We might be interested in testing whether a time series contains a particular 'pattern', such as two decreases in value in successive values (e.g., the definition of a recession), or a sequence of alternating increases and decreases (e.g., a steady breathing rhythm in a patient).\n",
    "To do this we first need to a way to specify the pattern to search for. We will represent a pattern as a string, which can contain the characters 'u' for up (or increase), 'd' for down (or decrease), and 's' for steady (no change). For example, 'dd' represents two successive decreases in value, 'ud' represents an increase in value followed by a decrease, 'dssu' represents a decrease in value followed by two steady values followed by an increase.\n",
    "Write a function contains_tst(ts, pattern, delta) that returns whether the given time series matches the given pattern.\n",
    "The parameters of this function are as follows:\n",
    "ts: a time series as a list of integers, containing at least two values\n",
    "pattern: a string of one or more characters, where the possible characters that can appear in pattern are 'u', 's' and 'd'\n",
    "delta: an integer ≥ 0 such that the absolute value of the change between two successive values in the time series must be less than or equal to delta for the two successive values to be considered steady ('s')\n",
    "The function returns True if given pattern matches a sequence of consecutive values in ts and if not, returns False.\n",
    "Assumptions:\n",
    "You can assume that the input arguments are syntactically correct given the description on this and on the previous slides.\n",
    "Here are some example calls to the function:\n",
    ">>> leckietopia = [58, 54, 54, 52, 54, 50, 47]\n",
    ">>> print(contains_tst(leckietopia, 'sdud', 0))\n",
    "True\n",
    ">>> print(contains_tst(leckietopia, 'sdud', 2))\n",
    "False\n",
    ">>> print(contains_tst(leckietopia, 'sss', 2))\n",
    "True\n",
    ">>> print(contains_tst(leckietopia, 'dd', 0))\n",
    "True\n",
    ">>> print(contains_tst([1, 2, 1, 8, 1, 2], 'udud', 0))\n",
    "True\n",
    ">>> print(contains_tst([1, 2, 1, 8, 1, 2], 'udud', 2))\n",
    "False"
   ]
  },
  {
   "cell_type": "code",
   "execution_count": 10,
   "id": "2abc64da",
   "metadata": {},
   "outputs": [
    {
     "name": "stdout",
     "output_type": "stream",
     "text": [
      "Enter the time series : 22 33 21 12 \n",
      "Enter range value : 2 \n",
      "Enter the pattern : ssud\n",
      "False\n"
     ]
    }
   ],
   "source": [
    "def contains_tst(ts, pattern, delta):\n",
    "    our_pattern = \"\"\n",
    "    for i in range(len(ts)-1):\n",
    "        if(abs(ts[i+1]-ts[i]) <= delta ):\n",
    "            our_pattern += \"s\"\n",
    "        elif(abs(ts[i+1]-ts[i]) > delta):\n",
    "            if((ts[i+1]-ts[i])< 0):\n",
    "                our_pattern += \"d\"\n",
    "            else :\n",
    "                our_pattern += \"u\"\n",
    "    if(our_pattern.find(pattern)==1):\n",
    "        return True\n",
    "    elif(our_pattern.find(pattern)==(-1)) :\n",
    "        return False\n",
    "\n",
    "\n",
    "ts = (input(\"Enter the time series : \").strip()).split(\" \")\n",
    "for i in range(len(ts)):\n",
    "    ts[i] = int(ts[i])\n",
    "\n",
    "delta = int(input(\"Enter range value : \"))\n",
    "\n",
    "pattern = input(\"Enter the pattern : \")\n",
    "\n",
    "print(contains_tst(ts,pattern,delta))\n"
   ]
  },
  {
   "cell_type": "markdown",
   "id": "d6ba4027",
   "metadata": {},
   "source": [
    "Question 3:: Write a function closest_tst(ts, ts_list) that given a time series ts, and a list of time series ts_list, returns the index of the time series in ts_list that has the smallest distance to ts (i.e., is most similar to ts):\n",
    "The function takes the following arguments,\n",
    "ts: a time series as a list of integers, containing at least two values\n",
    "ts_list: a list of one or more time series, where each time series in ts_list is a list of integers, and has the same length as ts\n",
    "The function returns an integer corresponding to index of the time series in ts_list that has the smallest distance to ts (if there are multiple time series in ts_list that have the equal smallest distance to ts, then return the index of the first such time series)\n",
    "Assumptions\n",
    "You can assume that the input arguments are correctly formatted and all time series have the same length.\n",
    "Here are some example calls to your function:\n",
    ">>> t1 = [10, 10, 10, 10]\n",
    ">>> t2 = [10, 10, 20, 20]\n",
    ">>> t3 = [0, 0, 40, 40]\n",
    ">>> t4 = [100, 100, 100, 100]\n",
    ">>> t5 = [10, 10, 20, 10]\n",
    ">>> print(closest_tst(t1, [t3, t2, t1]))\n",
    "2\n",
    ">>> print(closest_tst(t4, [t1, t2, t3]))\n",
    "0\n",
    ">>> print(closest_tst(t1, [t2, t5]))\n",
    "Notes for 3:: DISTANCE BETWEEN TIME SERIES\n",
    "Sometimes we want to compare two time series to see how similar they are. Or given a set of time series, we may want to compare a given example time series to each time series in the set, and decide which one is most similar. To do this, we need a way of calculating a distance measure between two time series. If two time series are identical, the distance between them should be zero. If two time series are very dissimilar, the distance between them should be large.\n",
    "We are given two time series ts1 and ts2, both of length n:\n",
    "ts1 is ts1[0], ts1[1], …, ts1[n-1]\n",
    "ts2 is ts2[0], ts2[1], …, ts2[n-1]\n",
    "We can compute the distance between ts1 and ts2 as follows.\n",
    "First, compute a new time series (we’ll call it diff) that is the absolute value of the differences of the corresponding values from ts1 and ts2\n",
    "diff[0] = abs(ts1[0] – ts2[0])\n",
    "diff[1] = abs(ts1[1] – ts2[1])\n",
    "...\n",
    "diff[n-1] = abs(ts1[n-1] – ts2[n-1])\n",
    "Next, compute the mean of diff, i.e., the mean of the absolute values of the differences between the two time series:\n",
    "mean=1nn−1∑i=0diff[i]where this summation notation means\n",
    "n−1∑i=0x[i]=x[0]+x[1]+...+x[n−1]\n",
    "Finally, we define the distance between ts1 and ts2 as:\n",
    "distance=?? ??1nn−1∑i=0[abs(ts1[i]−ts2[i])−mean]2"
   ]
  },
  {
   "cell_type": "code",
   "execution_count": null,
   "id": "bf6a0870",
   "metadata": {},
   "outputs": [],
   "source": [
    "def closest_tst(ts,ts_lst):\n",
    "    for i in range(len(ts)-1):\n",
    "        if((ts[i+1]-ts[i])>delta):\n",
    "            return False\n",
    "    return True\n",
    "\n",
    "time_series_list = (input(\"Enter the time series : \").strip()).split(\" \")\n",
    "for i in range(len(time_series_list)):\n",
    "    time_series_list[i] = int(time_series_list[i])\n",
    "\n",
    "pattern = input(\"Enter the pattern\")\n",
    "\n",
    "\n",
    "delta_val = int(input(\"Enter range value : \"))\n",
    "\n",
    "if(len(time_series_list) > 2):\n",
    "    print(contains_tst(time_series_list,pattern,delta_val))"
   ]
  },
  {
   "cell_type": "markdown",
   "id": "d1bb2cbe",
   "metadata": {},
   "source": [
    "Question 4::Write a function anomaly_tst(ts, w, threshold) that given a time series ts, a subsequence length w, and an anomaly cut-off threshold threshold , returns the index of the subsequence in ts that has the highest mean distance above the threshold (or -1 if no subsequence has a mean distance above the threshold). If there is more than one subsequence that has the same mean distance that is the max and above the threshold, then return the index of the first such time series.\n",
    "The function takes the following parameters:\n",
    "ts: a time series as a list of integers, containing at least two values\n",
    "w: an integer > 0 that specifies the length of subsequences\n",
    "threshold: a integer > 0, where the mean distance of a subsequence must be greater than this threshold if it is to be considered as an anomaly.\n",
    "Assumptions:\n",
    "You can assume that the input arguments are correctly formatted.\n",
    "Here are some example calls to your function:\n",
    ">>> ts = [3, 0, 2, 40, 1]\n",
    ">>> print(anomaly_tst(ts, 2, 40))\n",
    "2\n",
    ">>> print(anomaly_tst(ts, 2, 100))\n",
    "-1\n",
    ">>> print(anomaly_tst([10, 10, 10, 10, 0, 0, 10], 2, 12))\n",
    "4\n",
    ">>> print(anomaly_tst([10, 10, 10, 10, 10, 10, 10], 3, 12))\n",
    "-1\n",
    "Notes for 4::\n",
    "The final task is to detect whether a given time series contains an unusual subsequence of values (called an anomaly). To do this, we will examine every possible subsequence of values of length w in the time series.\n",
    "For example, the time series ts = [3, 0, 2, 40, 1] contains 4 subsequences of length w = 2, specifically [3, 0], [0, 2], [2, 40], [40,1]. Likewise, this time series contains 3 subsequences of length w = 3, being [3, 0, 2], [0, 2, 40], [2, 40, 1].\n",
    "Our aim is to find whether any of these subsequences is an anomaly, compared to the rest of the time series. We can do this by calculating the “distance” of each subsequence to every other subsequence. If the mean distance of a subsequence to all other subsequences exceeds a given threshold, we consider the subsequence to be an anomaly. In this question, we will use Euclidean distance as our distance measure between a pair of subsequences s1 and s2:\n",
    "distance(s1,s2)=?? ??w−1∑i=0(s1[i]−s2[i])2\n",
    "For example, the distance of subsequence [3, 0] has to subsequence [0, 2] is√32+22=3.6\n",
    "Similarly, the distance of subsequence [3, 0] to subsequence [2, 40] is 40, and to subsequence [40,1] is 37. Thus, the mean distance of subsequence [3, 0] to all other subsequences is (3.6 + 40 + 37)/3 = 26.9.\n",
    "Likewise, the mean distance of subsequence [0, 2] to all other subsequences is 27.2; for [2, 40] it is 44.2; and for [40, 1] it is 43.8. In this sequence, the subsequence [2, 40] has the greatest distance (44.2) and for [40,1] it is 43.8.\n",
    "If threshold for deciding whether a subsequence is an anomaly is given as 40, then this subsequence will be reported as an anomaly, i.e., it has the highest mean distance, and that mean distance is greater than the given threshold."
   ]
  },
  {
   "cell_type": "code",
   "execution_count": 3,
   "id": "e4137df7",
   "metadata": {},
   "outputs": [],
   "source": [
    "#solution\n",
    "def analomy_tst(ts,w,thershold):\n",
    "     for i in range(len(ts)-1):\n",
    "        if((ts[i+1]-ts[i])>delta):\n",
    "            return False\n",
    "    return True\n",
    "\n",
    "ts = (input(\"Enter the time series : \")\n",
    "for i in range(len(ts)):\n",
    "    ts[i] = int(ts[i])\n",
    "\n",
    "thershold = int(input(\"Enter thershold : \"))\n",
    "w = int(input(\"Enter Subsequence length\"))\n",
    "\n",
    "if(len(ts) > 2):\n",
    "    print(analomy_tst(ts, w, thershold ))\n",
    "    \n",
    "    "
   ]
  }
 ],
 "metadata": {
  "kernelspec": {
   "display_name": "Python 3",
   "language": "python",
   "name": "python3"
  },
  "language_info": {
   "codemirror_mode": {
    "name": "ipython",
    "version": 3
   },
   "file_extension": ".py",
   "mimetype": "text/x-python",
   "name": "python",
   "nbconvert_exporter": "python",
   "pygments_lexer": "ipython3",
   "version": "3.8.8"
  }
 },
 "nbformat": 4,
 "nbformat_minor": 5
}
